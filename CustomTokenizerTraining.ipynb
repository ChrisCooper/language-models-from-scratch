{
 "cells": [
  {
   "cell_type": "code",
   "execution_count": 1,
   "outputs": [],
   "source": [
    "%load_ext autoreload\n",
    "%autoreload 2"
   ],
   "metadata": {
    "collapsed": false,
    "ExecuteTime": {
     "end_time": "2024-02-23T05:12:05.187092Z",
     "start_time": "2024-02-23T05:12:05.175646Z"
    }
   },
   "id": "2b1f56e4e1776f20"
  },
  {
   "cell_type": "code",
   "execution_count": 2,
   "outputs": [
    {
     "name": "stdout",
     "output_type": "stream",
     "text": [
      "Loading *.txt from: /Users/chris/datasets/books\n",
      "Loaded 63 files, total length: 48810735\n",
      "Counting combinations of characters in text of length 48810735...\n",
      "247 length 1 tokens, 5655 length 2 tokens, 53674 length 3 tokens, 286403 length 4 tokens, 989192 length 5 tokens\n",
      "Sorting tokens by frequency...\n",
      "Vocab size: 10000, 247 length 1 tokens, 720 length 2 tokens, 2640 length 3 tokens, 3678 length 4 tokens, 2715 length 5 tokens\n",
      "Text length: 48810735, encoded length: 13165927\n"
     ]
    }
   ],
   "source": [
    "from custom_tokenizer import FrequencyGreedyTokenizer\n",
    "import generalizable\n",
    "\n",
    "text = generalizable.load_text_directory('~/datasets/books')\n",
    "\n",
    "tokenizer = FrequencyGreedyTokenizer()\n",
    "tokenizer.train(text, vocab_size=10000, min_frequency=1000)\n",
    "# print(tokenizer.vocab)\n",
    "print(f\"Text length: {len(text)}, encoded length: {len(tokenizer.encode(text))}\")\n",
    "tokenizer.save('vocab.json')"
   ],
   "metadata": {
    "collapsed": false,
    "ExecuteTime": {
     "end_time": "2024-02-22T20:54:00.243084Z",
     "start_time": "2024-02-22T20:52:44.503257Z"
    }
   },
   "id": "initial_id"
  },
  {
   "cell_type": "code",
   "execution_count": 3,
   "outputs": [],
   "source": [
    "tokenizer.save('vocab.json')"
   ],
   "metadata": {
    "collapsed": false,
    "ExecuteTime": {
     "end_time": "2024-02-22T20:54:00.255340Z",
     "start_time": "2024-02-22T20:54:00.242603Z"
    }
   },
   "id": "ca98b58f02dfa71f"
  },
  {
   "cell_type": "code",
   "execution_count": 47,
   "outputs": [],
   "source": [
    "tokenizer.load('vocab.json')"
   ],
   "metadata": {
    "collapsed": false,
    "ExecuteTime": {
     "end_time": "2024-02-22T20:21:10.040512Z",
     "start_time": "2024-02-22T20:21:10.023443Z"
    }
   },
   "id": "af18412d9444cd0"
  },
  {
   "cell_type": "markdown",
   "source": [
    "# Byte pair encoding"
   ],
   "metadata": {
    "collapsed": false
   },
   "id": "b6c6d68c5b530580"
  },
  {
   "cell_type": "code",
   "execution_count": 3,
   "outputs": [
    {
     "name": "stdout",
     "output_type": "stream",
     "text": [
      "Iteration 44: Substituted (102, 135) (not a valid UTF-8 sequence) (seen 2698 times) with 167\n",
      "Iteration 102: Substituted (83, 134) (not a valid UTF-8 sequence) (seen 1230 times) with 225\n",
      "Iteration 166: Substituted (144, 191) (not a valid UTF-8 sequence) (seen 774 times) with 289\n",
      "Iteration 235: Substituted (117, 116) (ut) (seen 517 times) with 358\n",
      "Iteration 308: Substituted (117, 177) (not a valid UTF-8 sequence) (seen 382 times) with 431\n",
      "Iteration 384: Substituted (73, 102) (If) (seen 295 times) with 507\n",
      "Iteration 463: Substituted (133, 132) (not a valid UTF-8 sequence) (seen 240 times) with 586\n",
      "Iteration 545: Substituted (117, 246) (not a valid UTF-8 sequence) (seen 202 times) with 668\n",
      "Iteration 629: Substituted (103, 275) (not a valid UTF-8 sequence) (seen 173 times) with 752\n",
      "Iteration 714: Substituted (579, 362) (not a valid UTF-8 sequence) (seen 150 times) with 837\n",
      "Iteration 801: Substituted (365, 292) (not a valid UTF-8 sequence) (seen 129 times) with 924\n",
      "Iteration 889: Substituted (137, 128) (not a valid UTF-8 sequence) (seen 115 times) with 1012\n",
      "Iteration 978: Substituted (101, 123) (e{) (seen 103 times) with 1101\n",
      "Iteration 1068: Substituted (680, 125) (not a valid UTF-8 sequence) (seen 94 times) with 1191\n",
      "Iteration 1159: Substituted (452, 131) (not a valid UTF-8 sequence) (seen 87 times) with 1282\n",
      "Iteration 1251: Substituted (1373, 1356) (not a valid UTF-8 sequence) (seen 81 times) with 1374\n",
      "Iteration 1343: Substituted (222, 332) (not a valid UTF-8 sequence) (seen 73 times) with 1466\n",
      "Iteration 1436: Substituted (418, 125) (not a valid UTF-8 sequence) (seen 68 times) with 1559\n",
      "Iteration 1529: Substituted (802, 283) (not a valid UTF-8 sequence) (seen 63 times) with 1652\n",
      "Iteration 1623: Substituted (118, 207) (not a valid UTF-8 sequence) (seen 58 times) with 1746\n",
      "Iteration 1718: Substituted (174, 137) (not a valid UTF-8 sequence) (seen 55 times) with 1841\n",
      "Iteration 1814: Substituted (145, 1260) (not a valid UTF-8 sequence) (seen 52 times) with 1937\n",
      "Vocab size: 1941, sequence length: 354997 (originally: 1115394)\n"
     ]
    }
   ],
   "source": [
    "from custom_tokenizer import BytePairEncodingTokenizer\n",
    "import generalizable\n",
    "\n",
    "training_text = generalizable.load_text_file('~/datasets/complete_shakespeare.txt')\n",
    "\n",
    "tokenizer = BytePairEncodingTokenizer()\n",
    "tokenizer.train(training_text, max_vocab_size=5000, min_frequency=50)"
   ],
   "metadata": {
    "collapsed": false,
    "ExecuteTime": {
     "end_time": "2024-02-23T05:18:55.999449Z",
     "start_time": "2024-02-23T05:15:08.009887Z"
    }
   },
   "id": "c17cdfcb4054129a"
  },
  {
   "cell_type": "code",
   "execution_count": 6,
   "outputs": [
    {
     "name": "stdout",
     "output_type": "stream",
     "text": [
      "[104, 256, 136, 1837, 343, 146, 1321, 351, 1869, 233, 103, 462, 241, 32, 137, 1360, 447, 237, 87, 184, 45, 104, 184, 33]\n",
      "hello world this is a test of this magical encoder. Woo-hoo!\n"
     ]
    }
   ],
   "source": [
    "encoded = tokenizer.encode(\"hello world this is a test of this magical encoder. Woo-hoo!\")\n",
    "print(encoded)\n",
    "print(tokenizer.decode(encoded))"
   ],
   "metadata": {
    "collapsed": false,
    "ExecuteTime": {
     "end_time": "2024-02-23T05:19:52.672666Z",
     "start_time": "2024-02-23T05:19:52.651045Z"
    }
   },
   "id": "7d0d39928c331d33"
  },
  {
   "cell_type": "code",
   "execution_count": null,
   "outputs": [],
   "source": [],
   "metadata": {
    "collapsed": false
   },
   "id": "e3e7b9ca69cc6f38"
  }
 ],
 "metadata": {
  "kernelspec": {
   "display_name": "Python 3",
   "language": "python",
   "name": "python3"
  },
  "language_info": {
   "codemirror_mode": {
    "name": "ipython",
    "version": 2
   },
   "file_extension": ".py",
   "mimetype": "text/x-python",
   "name": "python",
   "nbconvert_exporter": "python",
   "pygments_lexer": "ipython2",
   "version": "2.7.6"
  }
 },
 "nbformat": 4,
 "nbformat_minor": 5
}

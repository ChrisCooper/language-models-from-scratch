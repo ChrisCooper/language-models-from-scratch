{
 "cells": [
  {
   "cell_type": "code",
   "execution_count": 1,
   "outputs": [],
   "source": [
    "%load_ext autoreload\n",
    "%autoreload 2"
   ],
   "metadata": {
    "collapsed": false,
    "ExecuteTime": {
     "end_time": "2024-02-22T20:52:36.091118Z",
     "start_time": "2024-02-22T20:52:36.078895Z"
    }
   },
   "id": "2b1f56e4e1776f20"
  },
  {
   "cell_type": "code",
   "execution_count": 2,
   "outputs": [
    {
     "name": "stdout",
     "output_type": "stream",
     "text": [
      "Loading *.txt from: /Users/chris/datasets/books\n",
      "Loaded 63 files, total length: 48810735\n",
      "Counting combinations of characters in text of length 48810735...\n",
      "247 length 1 tokens, 5655 length 2 tokens, 53674 length 3 tokens, 286403 length 4 tokens, 989192 length 5 tokens\n",
      "Sorting tokens by frequency...\n",
      "Vocab size: 10000, 247 length 1 tokens, 720 length 2 tokens, 2640 length 3 tokens, 3678 length 4 tokens, 2715 length 5 tokens\n",
      "Text length: 48810735, encoded length: 13165927\n"
     ]
    }
   ],
   "source": [
    "from custom_tokenizer import FrequencyGreedyTokenizer\n",
    "import generalizable\n",
    "\n",
    "text = generalizable.load_text_directory('~/datasets/books')\n",
    "\n",
    "tokenizer = FrequencyGreedyTokenizer()\n",
    "tokenizer.train(text, vocab_size=10000, min_frequency=1000)\n",
    "# print(tokenizer.vocab)\n",
    "print(f\"Text length: {len(text)}, encoded length: {len(tokenizer.encode(text))}\")\n",
    "tokenizer.save('vocab.json')"
   ],
   "metadata": {
    "collapsed": false,
    "ExecuteTime": {
     "end_time": "2024-02-22T20:54:00.243084Z",
     "start_time": "2024-02-22T20:52:44.503257Z"
    }
   },
   "id": "initial_id"
  },
  {
   "cell_type": "code",
   "execution_count": 3,
   "outputs": [],
   "source": [
    "tokenizer.save('vocab.json')"
   ],
   "metadata": {
    "collapsed": false,
    "ExecuteTime": {
     "end_time": "2024-02-22T20:54:00.255340Z",
     "start_time": "2024-02-22T20:54:00.242603Z"
    }
   },
   "id": "ca98b58f02dfa71f"
  },
  {
   "cell_type": "code",
   "execution_count": 47,
   "outputs": [],
   "source": [
    "tokenizer.load('vocab.json')"
   ],
   "metadata": {
    "collapsed": false,
    "ExecuteTime": {
     "end_time": "2024-02-22T20:21:10.040512Z",
     "start_time": "2024-02-22T20:21:10.023443Z"
    }
   },
   "id": "af18412d9444cd0"
  },
  {
   "cell_type": "code",
   "execution_count": null,
   "outputs": [],
   "source": [],
   "metadata": {
    "collapsed": false
   },
   "id": "75892666eb3acf"
  }
 ],
 "metadata": {
  "kernelspec": {
   "display_name": "Python 3",
   "language": "python",
   "name": "python3"
  },
  "language_info": {
   "codemirror_mode": {
    "name": "ipython",
    "version": 2
   },
   "file_extension": ".py",
   "mimetype": "text/x-python",
   "name": "python",
   "nbconvert_exporter": "python",
   "pygments_lexer": "ipython2",
   "version": "2.7.6"
  }
 },
 "nbformat": 4,
 "nbformat_minor": 5
}
